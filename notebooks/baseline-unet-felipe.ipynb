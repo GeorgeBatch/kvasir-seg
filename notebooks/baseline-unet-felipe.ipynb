{
 "cells": [
  {
   "cell_type": "code",
   "execution_count": 1,
   "metadata": {},
   "outputs": [],
   "source": [
    "# files and system\n",
    "import os\n",
    "import sys"
   ]
  },
  {
   "cell_type": "code",
   "execution_count": 2,
   "metadata": {},
   "outputs": [],
   "source": [
    "import numpy as np\n",
    "import matplotlib.pyplot as plt"
   ]
  },
  {
   "cell_type": "code",
   "execution_count": 3,
   "metadata": {},
   "outputs": [],
   "source": [
    "# working with images\n",
    "import cv2\n",
    "import imageio\n",
    "import scipy.ndimage\n",
    "import skimage.transform"
   ]
  },
  {
   "cell_type": "code",
   "execution_count": 4,
   "metadata": {},
   "outputs": [],
   "source": [
    "import torch\n",
    "import torchvision\n",
    "\n",
    "import torchsummary"
   ]
  },
  {
   "cell_type": "code",
   "execution_count": 5,
   "metadata": {},
   "outputs": [
    {
     "data": {
      "text/plain": [
       "True"
      ]
     },
     "execution_count": 5,
     "metadata": {},
     "output_type": "execute_result"
    }
   ],
   "source": [
    "torch.cuda.is_available()"
   ]
  },
  {
   "cell_type": "markdown",
   "metadata": {},
   "source": [
    "# EDA"
   ]
  },
  {
   "cell_type": "markdown",
   "metadata": {},
   "source": [
    "## Pre-defined split"
   ]
  },
  {
   "cell_type": "code",
   "execution_count": 6,
   "metadata": {},
   "outputs": [
    {
     "data": {
      "text/plain": [
       "['val.txt', 'train.txt', 'README.md']"
      ]
     },
     "execution_count": 6,
     "metadata": {},
     "output_type": "execute_result"
    }
   ],
   "source": [
    "os.listdir('../2020-MediaEval-Medico-polyp-segmentation-master/kvasir-seg-train-val')"
   ]
  },
  {
   "cell_type": "code",
   "execution_count": 7,
   "metadata": {},
   "outputs": [
    {
     "name": "stdout",
     "output_type": "stream",
     "text": [
      "880\n",
      "120\n"
     ]
    }
   ],
   "source": [
    "with open('../2020-MediaEval-Medico-polyp-segmentation-master/kvasir-seg-train-val/train.txt', 'r') as f:\n",
    "    print(len([l.strip()+'.jpg' for l in f]))\n",
    "    \n",
    "with open('../2020-MediaEval-Medico-polyp-segmentation-master/kvasir-seg-train-val/val.txt', 'r') as f:\n",
    "    print(len([l.strip()+'.jpg' for l in f]))"
   ]
  },
  {
   "cell_type": "code",
   "execution_count": null,
   "metadata": {},
   "outputs": [],
   "source": []
  },
  {
   "cell_type": "markdown",
   "metadata": {},
   "source": [
    "## Random Image/Mask pair"
   ]
  },
  {
   "cell_type": "code",
   "execution_count": 8,
   "metadata": {},
   "outputs": [
    {
     "data": {
      "text/plain": [
       "(430, 569, 3)"
      ]
     },
     "execution_count": 8,
     "metadata": {},
     "output_type": "execute_result"
    }
   ],
   "source": [
    "img = imageio.imread('../datasets/train-val/images/cju5buy2bal250818ipl6fqwv.jpg')\n",
    "img.shape"
   ]
  },
  {
   "cell_type": "code",
   "execution_count": 9,
   "metadata": {},
   "outputs": [
    {
     "data": {
      "text/plain": [
       "(430, 569)"
      ]
     },
     "execution_count": 9,
     "metadata": {},
     "output_type": "execute_result"
    }
   ],
   "source": [
    "mask = imageio.imread('../datasets/train-val/masks/cju5buy2bal250818ipl6fqwv.jpg')\n",
    "# np.all(mask[:, :, 1] == mask[:, :, 2])\n",
    "mask[:, :, 0].shape\n"
   ]
  },
  {
   "cell_type": "code",
   "execution_count": null,
   "metadata": {},
   "outputs": [],
   "source": []
  },
  {
   "cell_type": "code",
   "execution_count": null,
   "metadata": {},
   "outputs": [],
   "source": []
  },
  {
   "cell_type": "code",
   "execution_count": 25,
   "metadata": {},
   "outputs": [],
   "source": [
    "def iou_pytorch_eval(outputs: torch.Tensor, labels: torch.Tensor):\n",
    "\n",
    "    # comment out if your model contains a sigmoid or equivalent activation layer\n",
    "    outputs = torch.sigmoid(outputs)\n",
    "\n",
    "    # thresholding since that's how we will make predictions on new imputs\n",
    "    outputs = outputs > 0.5\n",
    "\n",
    "    # You can comment out this line if you are passing tensors of equal shape\n",
    "    # But if you are passing output from UNet or something it will most probably\n",
    "    # be with the BATCH x 1 x H x W shape\n",
    "    outputs = outputs.squeeze(1).byte()  # BATCH x 1 x H x W => BATCH x H x W\n",
    "    labels = labels.squeeze(1).byte()\n",
    "\n",
    "\n",
    "    SMOOTH = 1e-8\n",
    "    intersection = (outputs & labels).float().sum((1, 2))  # Will be zero if Truth=0 or Prediction=0\n",
    "    union = (outputs | labels).float().sum((1, 2))         # Will be zero if both are 0\n",
    "    iou = (intersection + SMOOTH) / (union + SMOOTH)  # We smooth our devision to avoid 0/0\n",
    "\n",
    "    return iou.mean()"
   ]
  },
  {
   "cell_type": "markdown",
   "metadata": {},
   "source": [
    "# Dataloader"
   ]
  },
  {
   "cell_type": "code",
   "execution_count": 10,
   "metadata": {},
   "outputs": [
    {
     "name": "stdout",
     "output_type": "stream",
     "text": [
      "My custom training-dataset has 880 elements\n",
      "My custom validation-dataset has 120 elements\n"
     ]
    }
   ],
   "source": [
    "# Method 2: Save images to folder and create a custom dataloader that loads them from their path. More involved than method 1 but allows for greater flexibility\n",
    "# Requires 3 functions: __init__ to initialize the object, and __len__ and __get__item for pytorch purposes. More functions can be added as needed, but those 3 are necessary for it to function with pytorch\n",
    "class myDataSet(object):\n",
    "\n",
    "    def __init__(self, ids, path_images, path_masks):\n",
    "        \"Initialization\"\n",
    "        self.ids = ids\n",
    "        self.path_images = path_images\n",
    "        self.path_masks = path_masks\n",
    "\n",
    "    def __len__(self):\n",
    "        \"Returns length of dataset\"\n",
    "        return len(self.ids)  \n",
    "\n",
    "    def __getitem__(self, index):\n",
    "        \"Return next item of dataset\"\n",
    "        # Define path to current image and corresponding mask\n",
    "        path_img = os.path.join(self.path_images, self.ids[index])\n",
    "        path_mask = os.path.join(self.path_masks, self.ids[index])\n",
    "\n",
    "        # Load image and mask\n",
    "        #img = cv2.imread(path_img)\n",
    "        img = imageio.imread(path_img)\n",
    "        mask = imageio.imread(path_mask)[:,:,0] # mask from .jpeg has 3 channels ()\n",
    "        \n",
    "        #print(path_img, img.shape, mask.shape, np.unique(mask))\n",
    "        #assert img.shape == mask.shape\n",
    "\n",
    "        # Here you can implement any transformations you would like to apply to the image/mask\n",
    "        #\n",
    "        img = cv2.resize(img, (256, 256))\n",
    "        mask = cv2.resize(mask, (256, 256))\n",
    "        mask = mask > 100 # binarize so there are no intencities like 1, 2, 3, 251, 253, 255\n",
    "\n",
    "        # Convert to tensor and return\n",
    "        img = torch.FloatTensor(np.transpose(img, [2, 0 ,1])) # Pytorch uses the channels in the first dimension\n",
    "        mask = torch.FloatTensor(mask).unsqueeze(0) # Adding channel dimension to label\n",
    "\n",
    "        return img, mask\n",
    "\n",
    "path_images = \"../datasets/train-val/images\"\n",
    "path_masks = \"../datasets/train-val/masks\"\n",
    "\n",
    "\n",
    "# pre-defined split\n",
    "with open('../2020-MediaEval-Medico-polyp-segmentation-master/kvasir-seg-train-val/train.txt', 'r') as f:\n",
    "    ids_train = [l.strip()+'.jpg' for l in f]\n",
    "with open('../2020-MediaEval-Medico-polyp-segmentation-master/kvasir-seg-train-val/val.txt', 'r') as f:\n",
    "    ids_val = [l.strip()+'.jpg' for l in f]\n",
    "# ids = np.array(os.listdir(\"../datasets/train-val/images\")) # list of filenames to be used\n",
    "# indices = torch.randperm(len(os.listdir(path_images))).tolist()\n",
    "# ids_train = ids[indices[:int(len(indices)*0.8)]]\n",
    "# ids_val = ids[indices[-int(len(indices)*0.2):]]\n",
    "\n",
    "\n",
    "custom_dataset_train = myDataSet(ids_train, path_images, path_masks)\n",
    "custom_dataset_val = myDataSet(ids_val, path_images, path_masks)\n",
    "\n",
    "print(\"My custom training-dataset has {} elements\".format(len(custom_dataset_train)))\n",
    "print(\"My custom validation-dataset has {} elements\".format(len(custom_dataset_val)))"
   ]
  },
  {
   "cell_type": "code",
   "execution_count": 17,
   "metadata": {},
   "outputs": [],
   "source": [
    "batch_size = 5\n",
    "\n",
    "# Create dataloaders from datasets with the native pytorch functions\n",
    "dataloader_train = torch.utils.data.DataLoader(custom_dataset_train, batch_size=batch_size, shuffle=True, num_workers=2)\n",
    "dataloader_val = torch.utils.data.DataLoader(custom_dataset_val, batch_size=batch_size, shuffle=True, num_workers=2)"
   ]
  },
  {
   "cell_type": "code",
   "execution_count": 18,
   "metadata": {},
   "outputs": [
    {
     "data": {
      "image/png": "[encoded data removed]",
      "text/plain": [
       "<Figure size 432x288 with 1 Axes>"
      ]
     },
     "metadata": {
      "needs_background": "light"
     },
     "output_type": "display_data"
    },
    {
     "data": {
      "image/png": "[encoded data removed]",
      "text/plain": [
       "<Figure size 432x288 with 1 Axes>"
      ]
     },
     "metadata": {
      "needs_background": "light"
     },
     "output_type": "display_data"
    }
   ],
   "source": [
    "# Show example images.\n",
    "image_number = 23\n",
    "\n",
    "# image\n",
    "plt.figure()\n",
    "plt.imshow(custom_dataset_train.__getitem__(image_number)[0].mean(0))\n",
    "\n",
    "# mask\n",
    "plt.figure()\n",
    "plt.imshow(custom_dataset_train.__getitem__(image_number)[1][0, :, :])\n",
    "\n",
    "plt.show()"
   ]
  },
  {
   "cell_type": "code",
   "execution_count": 19,
   "metadata": {},
   "outputs": [
    {
     "data": {
      "text/plain": [
       "torch.Size([3, 256, 256])"
      ]
     },
     "execution_count": 19,
     "metadata": {},
     "output_type": "execute_result"
    }
   ],
   "source": [
    "custom_dataset_train.__getitem__(image_number)[0].shape"
   ]
  },
  {
   "cell_type": "code",
   "execution_count": 20,
   "metadata": {},
   "outputs": [
    {
     "data": {
      "text/plain": [
       "(torch.Size([1, 256, 256]), array([0., 1.], dtype=float32))"
      ]
     },
     "execution_count": 20,
     "metadata": {},
     "output_type": "execute_result"
    }
   ],
   "source": [
    "custom_dataset_train.__getitem__(image_number)[1].shape, np.unique(custom_dataset_train.__getitem__(image_number)[1])"
   ]
  },
  {
   "cell_type": "code",
   "execution_count": null,
   "metadata": {},
   "outputs": [],
   "source": []
  },
  {
   "cell_type": "markdown",
   "metadata": {},
   "source": [
    "# Model Architecture"
   ]
  },
  {
   "cell_type": "code",
   "execution_count": 26,
   "metadata": {},
   "outputs": [
    {
     "name": "stdout",
     "output_type": "stream",
     "text": [
      "----------------------------------------------------------------\n",
      "        Layer (type)               Output Shape         Param #\n",
      "================================================================\n",
      "            Conv2d-1         [-1, 64, 256, 256]           1,792\n",
      "       BatchNorm2d-2         [-1, 64, 256, 256]             128\n",
      "              ReLU-3         [-1, 64, 256, 256]               0\n",
      "            Conv2d-4         [-1, 64, 256, 256]          36,928\n",
      "       BatchNorm2d-5         [-1, 64, 256, 256]             128\n",
      "              ReLU-6         [-1, 64, 256, 256]               0\n",
      "            Conv2d-7        [-1, 128, 128, 128]          73,856\n",
      "       BatchNorm2d-8        [-1, 128, 128, 128]             256\n",
      "              ReLU-9        [-1, 128, 128, 128]               0\n",
      "           Conv2d-10        [-1, 128, 128, 128]         147,584\n",
      "      BatchNorm2d-11        [-1, 128, 128, 128]             256\n",
      "             ReLU-12        [-1, 128, 128, 128]               0\n",
      "           Conv2d-13          [-1, 256, 64, 64]         295,168\n",
      "      BatchNorm2d-14          [-1, 256, 64, 64]             512\n",
      "             ReLU-15          [-1, 256, 64, 64]               0\n",
      "           Conv2d-16          [-1, 256, 64, 64]         590,080\n",
      "      BatchNorm2d-17          [-1, 256, 64, 64]             512\n",
      "             ReLU-18          [-1, 256, 64, 64]               0\n",
      "           Conv2d-19          [-1, 512, 32, 32]       1,180,160\n",
      "      BatchNorm2d-20          [-1, 512, 32, 32]           1,024\n",
      "             ReLU-21          [-1, 512, 32, 32]               0\n",
      "           Conv2d-22          [-1, 512, 32, 32]       2,359,808\n",
      "      BatchNorm2d-23          [-1, 512, 32, 32]           1,024\n",
      "             ReLU-24          [-1, 512, 32, 32]               0\n",
      "           Conv2d-25         [-1, 1024, 16, 16]       4,719,616\n",
      "      BatchNorm2d-26         [-1, 1024, 16, 16]           2,048\n",
      "             ReLU-27         [-1, 1024, 16, 16]               0\n",
      "           Conv2d-28         [-1, 1024, 16, 16]       9,438,208\n",
      "      BatchNorm2d-29         [-1, 1024, 16, 16]           2,048\n",
      "             ReLU-30         [-1, 1024, 16, 16]               0\n",
      "  ConvTranspose2d-31          [-1, 512, 32, 32]       2,097,664\n",
      "           Conv2d-32          [-1, 512, 32, 32]       4,719,104\n",
      "      BatchNorm2d-33          [-1, 512, 32, 32]           1,024\n",
      "             ReLU-34          [-1, 512, 32, 32]               0\n",
      "           Conv2d-35          [-1, 512, 32, 32]       2,359,808\n",
      "      BatchNorm2d-36          [-1, 512, 32, 32]           1,024\n",
      "             ReLU-37          [-1, 512, 32, 32]               0\n",
      "  ConvTranspose2d-38          [-1, 256, 64, 64]         524,544\n",
      "           Conv2d-39          [-1, 256, 64, 64]       1,179,904\n",
      "      BatchNorm2d-40          [-1, 256, 64, 64]             512\n",
      "             ReLU-41          [-1, 256, 64, 64]               0\n",
      "           Conv2d-42          [-1, 256, 64, 64]         590,080\n",
      "      BatchNorm2d-43          [-1, 256, 64, 64]             512\n",
      "             ReLU-44          [-1, 256, 64, 64]               0\n",
      "  ConvTranspose2d-45        [-1, 128, 128, 128]         131,200\n",
      "           Conv2d-46        [-1, 128, 128, 128]         295,040\n",
      "      BatchNorm2d-47        [-1, 128, 128, 128]             256\n",
      "             ReLU-48        [-1, 128, 128, 128]               0\n",
      "           Conv2d-49        [-1, 128, 128, 128]         147,584\n",
      "      BatchNorm2d-50        [-1, 128, 128, 128]             256\n",
      "             ReLU-51        [-1, 128, 128, 128]               0\n",
      "  ConvTranspose2d-52         [-1, 64, 256, 256]          32,832\n",
      "           Conv2d-53         [-1, 64, 256, 256]          73,792\n",
      "      BatchNorm2d-54         [-1, 64, 256, 256]             128\n",
      "             ReLU-55         [-1, 64, 256, 256]               0\n",
      "           Conv2d-56         [-1, 64, 256, 256]          36,928\n",
      "      BatchNorm2d-57         [-1, 64, 256, 256]             128\n",
      "             ReLU-58         [-1, 64, 256, 256]               0\n",
      "           Conv2d-59          [-1, 1, 256, 256]              65\n",
      "================================================================\n",
      "Total params: 31,043,521\n",
      "Trainable params: 31,043,521\n",
      "Non-trainable params: 0\n",
      "----------------------------------------------------------------\n",
      "Input size (MB): 0.75\n",
      "Forward/backward pass size (MB): 792.50\n",
      "Params size (MB): 118.42\n",
      "Estimated Total Size (MB): 911.67\n",
      "----------------------------------------------------------------\n"
     ]
    }
   ],
   "source": [
    "# Define your model. In this case we're using a basic UNet architecture. The output channel for segmentation should be equal to number of classes we want to segment the image into. For a binary segmentation, this is a value of 1.\n",
    "class UNet(torch.nn.Module):\n",
    "\n",
    "    def conv_block(self, channel_in, channel_out):\n",
    "        return torch.nn.Sequential(\n",
    "            torch.nn.Conv2d(channel_in, channel_out, kernel_size=3, padding=1),\n",
    "            torch.nn.BatchNorm2d(channel_out),\n",
    "            torch.nn.ReLU(inplace=True),\n",
    "            torch.nn.Conv2d(channel_out, channel_out, kernel_size=3, padding=1),\n",
    "            torch.nn.BatchNorm2d(channel_out),\n",
    "            torch.nn.ReLU(inplace=True)\n",
    "        )\n",
    "\n",
    "\n",
    "    def __init__(self, channel_in, channel_out, bilinear=None):\n",
    "        super(UNet, self).__init__()\n",
    "        self.channel_in = channel_in\n",
    "        self.channel_out = channel_out\n",
    "        \n",
    "        # initial convolutional block\n",
    "        self.initial = self.conv_block(channel_in, 64)\n",
    "        \n",
    "        # encoder layers\n",
    "        self.down0 = self.conv_block(64, 128)\n",
    "        self.down1 = self.conv_block(128, 256)\n",
    "        self.down2 = self.conv_block(256, 512)\n",
    "        self.down3 = self.conv_block(512, 1024)\n",
    "        \n",
    "        # decoder layers\n",
    "        self.up0_0 = torch.nn.ConvTranspose2d(1024, 512, kernel_size=2, stride=2)\n",
    "        self.up0_1 = self.conv_block(1024, 512)\n",
    "        self.up1_0 = torch.nn.ConvTranspose2d(512, 256, kernel_size=2, stride=2)\n",
    "        self.up1_1 = self.conv_block(512, 256)\n",
    "        self.up2_0 = torch.nn.ConvTranspose2d(256, 128, kernel_size=2, stride=2)\n",
    "        self.up2_1 = self.conv_block(256, 128)\n",
    "        self.up3_0 = torch.nn.ConvTranspose2d(128, 64, kernel_size=2, stride=2)\n",
    "        self.up3_1 = self.conv_block(128, 64)\n",
    "        \n",
    "        # final layer before output\n",
    "        self.final = torch.nn.Conv2d(64, channel_out, kernel_size=1)\n",
    "\n",
    "    def forward(self,x):\n",
    "        \"Forward pass\"\n",
    "        x_in= self.initial(x)\n",
    "        enc0 = self.down0(torch.nn.MaxPool2d(2)(x_in))\n",
    "        enc1 = self.down1(torch.nn.MaxPool2d(2)(enc0))\n",
    "        enc2 = self.down2(torch.nn.MaxPool2d(2)(enc1))\n",
    "        enc3 = self.down3(torch.nn.MaxPool2d(2)(enc2))\n",
    "        \n",
    "        dec0 = self.up0_0(enc3)\n",
    "        diff0 = torch.FloatTensor(list(enc2.size())[2:]) - torch.FloatTensor(list(dec0.shape))[2:]\n",
    "        dec0 = torch.nn.functional.pad(dec0, (int((diff0/2).floor()[0]), int((diff0/2).ceil()[0]), int((diff0/2).floor()[1]), int((diff0/2).ceil()[1])))\n",
    "        dec0 = self.up0_1(torch.cat((enc2, dec0), dim=1))\n",
    "\n",
    "        dec1 = self.up1_0(dec0)\n",
    "        diff1 = torch.FloatTensor(list(enc1.size())[2:]) - torch.FloatTensor(list(dec1.shape))[2:]\n",
    "        dec1 = torch.nn.functional.pad(dec1, (int((diff1/2).floor()[0]), int((diff1/2).ceil()[0]), int((diff1/2).floor()[1]), int((diff1/2).ceil()[1])))\n",
    "        dec1 = self.up1_1(torch.cat((enc1, dec1), dim=1))\n",
    "\n",
    "        dec2 = self.up2_0(dec1)\n",
    "        diff2 = torch.FloatTensor(list(enc0.size())[2:]) - torch.FloatTensor(list(dec2.shape))[2:]\n",
    "        dec2 = torch.nn.functional.pad(dec2, (int((diff2/2).floor()[0]), int((diff2/2).ceil()[0]), int((diff2/2).floor()[1]), int((diff2/2).ceil()[1])))\n",
    "        dec2 = self.up2_1(torch.cat((enc0, dec2), dim=1))\n",
    "\n",
    "        dec3 = self.up3_0(dec2)\n",
    "        diff3 = torch.FloatTensor(list(x.size())[2:]) - torch.FloatTensor(list(dec3.shape))[2:]\n",
    "        dec3 = torch.nn.functional.pad(dec3, (int((diff3/2).floor()[0]), int((diff3/2).ceil()[0]), int((diff3/2).floor()[1]), int((diff3/2).ceil()[1])))\n",
    "        dec3 = self.up3_1(torch.cat((x_in, dec3), dim=1))\n",
    "\n",
    "        x_out = self.final(dec3)\n",
    "        return x_out\n",
    "\n",
    "model = UNet(channel_in=3, channel_out= 1)\n",
    "torchsummary.summary(model, (3, 256, 256), device=\"cpu\") # Runs a basic test of the network. Very useful and clear!"
   ]
  },
  {
   "cell_type": "code",
   "execution_count": null,
   "metadata": {},
   "outputs": [],
   "source": []
  },
  {
   "cell_type": "markdown",
   "metadata": {},
   "source": [
    "# Training hyperparameters"
   ]
  },
  {
   "cell_type": "code",
   "execution_count": 27,
   "metadata": {},
   "outputs": [],
   "source": [
    "# Define variables for the training\n",
    "epochs = 10\n",
    "lr = 0.001 # learning rate"
   ]
  },
  {
   "cell_type": "code",
   "execution_count": 28,
   "metadata": {},
   "outputs": [],
   "source": [
    "# Define optimiser and criterion for the training. You can try different ones to see which works best for your data and task\n",
    "optimiser = torch.optim.Adam(model.parameters(), lr = lr, weight_decay = 1e-3)\n",
    "criterion = torch.nn.BCEWithLogitsLoss()"
   ]
  },
  {
   "cell_type": "code",
   "execution_count": null,
   "metadata": {},
   "outputs": [],
   "source": []
  },
  {
   "cell_type": "markdown",
   "metadata": {},
   "source": [
    "# Training"
   ]
  },
  {
   "cell_type": "code",
   "execution_count": 29,
   "metadata": {},
   "outputs": [
    {
     "name": "stdout",
     "output_type": "stream",
     "text": [
      " Epoch: 0 of 10, Iter.: 176 of 176, Loss: 0.392530, Val. Loss: 0.390310\n",
      " Epoch: 1 of 10, Iter.: 176 of 176, Loss: 0.352054, Val. Loss: 0.373968\n",
      " Epoch: 2 of 10, Iter.: 176 of 176, Loss: 0.349470, Val. Loss: 0.368950\n",
      " Epoch: 3 of 10, Iter.: 176 of 176, Loss: 0.348349, Val. Loss: 0.368568\n",
      " Epoch: 4 of 10, Iter.: 176 of 176, Loss: 0.347300, Val. Loss: 0.374907\n",
      " Epoch: 5 of 10, Iter.: 176 of 176, Loss: 0.345234, Val. Loss: 0.374597\n",
      " Epoch: 6 of 10, Iter.: 176 of 176, Loss: 0.343051, Val. Loss: 0.380497\n",
      " Epoch: 7 of 10, Iter.: 176 of 176, Loss: 0.341062, Val. Loss: 0.369913\n",
      " Epoch: 8 of 10, Iter.: 128 of 176, IoU:  0.025189"
     ]
    },
    {
     "ename": "KeyboardInterrupt",
     "evalue": "",
     "output_type": "error",
     "traceback": [
      "\u001b[0;31m---------------------------------------------------------------------------\u001b[0m",
      "\u001b[0;31mKeyboardInterrupt\u001b[0m                         Traceback (most recent call last)",
      "\u001b[0;32m<ipython-input-29-ed30b33cdf8d>\u001b[0m in \u001b[0;36m<module>\u001b[0;34m\u001b[0m\n\u001b[1;32m     17\u001b[0m         \u001b[0moptimiser\u001b[0m\u001b[0;34m.\u001b[0m\u001b[0mstep\u001b[0m\u001b[0;34m(\u001b[0m\u001b[0;34m)\u001b[0m\u001b[0;34m\u001b[0m\u001b[0;34m\u001b[0m\u001b[0m\n\u001b[1;32m     18\u001b[0m \u001b[0;34m\u001b[0m\u001b[0m\n\u001b[0;32m---> 19\u001b[0;31m         \u001b[0mrunning_loss\u001b[0m \u001b[0;34m+=\u001b[0m \u001b[0mloss\u001b[0m\u001b[0;34m.\u001b[0m\u001b[0mitem\u001b[0m\u001b[0;34m(\u001b[0m\u001b[0;34m)\u001b[0m\u001b[0;34m\u001b[0m\u001b[0;34m\u001b[0m\u001b[0m\n\u001b[0m\u001b[1;32m     20\u001b[0m         \u001b[0mprint\u001b[0m\u001b[0;34m(\u001b[0m\u001b[0;34m\"\\r Epoch: {} of {}, Iter.: {} of {}, Loss: {:.6f}\"\u001b[0m\u001b[0;34m.\u001b[0m\u001b[0mformat\u001b[0m\u001b[0;34m(\u001b[0m\u001b[0mepoch\u001b[0m\u001b[0;34m,\u001b[0m \u001b[0mepochs\u001b[0m\u001b[0;34m,\u001b[0m \u001b[0mi\u001b[0m\u001b[0;34m,\u001b[0m \u001b[0mlen\u001b[0m\u001b[0;34m(\u001b[0m\u001b[0mdataloader_train\u001b[0m\u001b[0;34m)\u001b[0m\u001b[0;34m,\u001b[0m \u001b[0mrunning_loss\u001b[0m\u001b[0;34m/\u001b[0m\u001b[0;34m(\u001b[0m\u001b[0mi\u001b[0m\u001b[0;34m+\u001b[0m\u001b[0;36m1\u001b[0m\u001b[0;34m)\u001b[0m\u001b[0;34m)\u001b[0m\u001b[0;34m,\u001b[0m \u001b[0mend\u001b[0m\u001b[0;34m=\u001b[0m\u001b[0;34m\"\"\u001b[0m\u001b[0;34m)\u001b[0m\u001b[0;34m\u001b[0m\u001b[0;34m\u001b[0m\u001b[0m\n\u001b[1;32m     21\u001b[0m \u001b[0;34m\u001b[0m\u001b[0m\n",
      "\u001b[0;31mKeyboardInterrupt\u001b[0m: "
     ]
    }
   ],
   "source": [
    "# Begin training\n",
    "device = torch.device(\"cuda\" if torch.cuda.is_available() else \"cpu\") # select device for training, i.e. gpu or cpu\n",
    "model = model.to(device) # load model to device\n",
    "for epoch in range(epochs):\n",
    "    running_loss = 0\n",
    "    running_iou = 0\n",
    "    # Train\n",
    "    model.train()\n",
    "    for i, (imgs, masks) in enumerate(dataloader_train):\n",
    "        imgs, masks = imgs.to(device), masks.to(device)\n",
    "        \n",
    "        prediction = model(imgs)\n",
    "        \n",
    "        optimiser.zero_grad()\n",
    "        loss = criterion(prediction, masks)\n",
    "        loss.backward()\n",
    "        optimiser.step()\n",
    "        \n",
    "        running_loss += loss.item()\n",
    "        print(\"\\r Epoch: {} of {}, Iter.: {} of {}, Loss: {:.6f}\".format(epoch, epochs, i, len(dataloader_train), running_loss/(i+1)), end=\"\")\n",
    "        \n",
    "        running_iou += iou_pytorch_eval(prediction, masks)\n",
    "        print(\"\\r Epoch: {} of {}, Iter.: {} of {}, IoU:  {:.6f}\".format(epoch, epochs, i, len(dataloader_train), running_iou/(i+1)), end=\"\")\n",
    "        \n",
    "    # Validate\n",
    "    model.eval()\n",
    "    val_loss = 0\n",
    "    for i, (imgs, masks) in enumerate(dataloader_val):\n",
    "        imgs = imgs.to(device)\n",
    "        masks = masks.to(device)\n",
    "        prediction = model(imgs)\n",
    "        loss = criterion(prediction, masks)\n",
    "        val_loss += loss.item()\n",
    "        print(\"\\r Epoch: {} of {}, Iter.: {} of {}, Loss: {:.6f}, Val. Loss: {:.6f}\".format(epoch, epochs, len(dataloader_train), len(dataloader_train), running_loss/len(dataloader_train), val_loss/(i+1)), end=\"\")\n",
    "    print(\"\\r Epoch: {} of {}, Iter.: {} of {}, Loss: {:.6f}, Val. Loss: {:.6f}\".format(epoch, epochs, len(dataloader_train), len(dataloader_train), running_loss/len(dataloader_train), val_loss/len(dataloader_val)))"
   ]
  },
  {
   "cell_type": "code",
   "execution_count": null,
   "metadata": {},
   "outputs": [],
   "source": []
  },
  {
   "cell_type": "code",
   "execution_count": null,
   "metadata": {},
   "outputs": [],
   "source": []
  },
  {
   "cell_type": "code",
   "execution_count": null,
   "metadata": {},
   "outputs": [],
   "source": []
  }
 ],
 "metadata": {
  "kernelspec": {
   "display_name": "Python 3",
   "language": "python",
   "name": "python3"
  },
  "language_info": {
   "codemirror_mode": {
    "name": "ipython",
    "version": 3
   },
   "file_extension": ".py",
   "mimetype": "text/x-python",
   "name": "python",
   "nbconvert_exporter": "python",
   "pygments_lexer": "ipython3",
   "version": "3.7.6"
  }
 },
 "nbformat": 4,
 "nbformat_minor": 2
}
