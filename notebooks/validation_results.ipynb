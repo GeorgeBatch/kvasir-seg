{
 "cells": [
  {
   "cell_type": "markdown",
   "metadata": {},
   "source": [
    "## Step 1: Put all libraries and packages at top"
   ]
  },
  {
   "cell_type": "code",
   "execution_count": null,
   "metadata": {},
   "outputs": [],
   "source": [
    "# for updating the custom imports\n",
    "%load_ext autoreload\n",
    "%autoreload 2"
   ]
  },
  {
   "attachments": {},
   "cell_type": "markdown",
   "metadata": {},
   "source": [
    "### Built-in imports"
   ]
  },
  {
   "cell_type": "code",
   "execution_count": null,
   "metadata": {},
   "outputs": [],
   "source": [
    "# built-in imports\n",
    "import os\n",
    "import sys\n",
    "import time\n",
    "import random"
   ]
  },
  {
   "attachments": {},
   "cell_type": "markdown",
   "metadata": {},
   "source": [
    "### Standard imports"
   ]
  },
  {
   "cell_type": "code",
   "execution_count": null,
   "metadata": {},
   "outputs": [],
   "source": [
    "import numpy as np\n",
    "import matplotlib.pyplot as plt\n",
    "\n",
    "# working with images\n",
    "import cv2\n",
    "import imageio as iio\n",
    "\n",
    "# torch\n",
    "import torch\n",
    "import torch.nn as nn\n",
    "import torch.nn.functional as F\n",
    "\n",
    "# torchvision\n",
    "import torchvision\n",
    "import torchvision.transforms as transforms\n",
    "\n",
    "# torchsummary\n",
    "import torchsummary\n",
    "\n",
    "# interactive progress bar\n",
    "from tqdm import notebook\n",
    "\n",
    "from IPython.display import clear_output"
   ]
  },
  {
   "cell_type": "markdown",
   "metadata": {},
   "source": [
    "### Custom imports"
   ]
  },
  {
   "cell_type": "code",
   "execution_count": null,
   "metadata": {},
   "outputs": [],
   "source": [
    "sys.path.insert(0, '..')\n",
    "\n",
    "# losses\n",
    "from utils.metrics import iou_pytorch_eval, IoULoss, IoUBCELoss\n",
    "from utils.metrics import iou_pytorch_test, dice_pytorch_test, precision_pytorch_test, recall_pytorch_test, fbeta_pytorch_test, accuracy_pytorch_test\n",
    "\n",
    "# dataset\n",
    "from utils.dataset import myDataSet\n",
    "\n",
    "sys.path.insert(0, './notebooks')"
   ]
  },
  {
   "cell_type": "code",
   "execution_count": null,
   "metadata": {},
   "outputs": [],
   "source": [
    "sys.path.insert(0, '../models')\n",
    "\n",
    "# models\n",
    "from models.unet import UNet\n",
    "from models.unet_attention import UNet_attention\n",
    "\n",
    "sys.path.insert(0, '../notebooks')"
   ]
  },
  {
   "cell_type": "markdown",
   "metadata": {},
   "source": [
    "## Step 2: Fix a seed for reproducibility, and choose the DEVICE"
   ]
  },
  {
   "cell_type": "code",
   "execution_count": null,
   "metadata": {},
   "outputs": [],
   "source": [
    "random_seed= 42\n",
    "random.seed(random_seed)\n",
    "np.random.seed(random_seed)\n",
    "torch.manual_seed(random_seed)\n",
    "torch.cuda.manual_seed(random_seed)\n",
    "torch.backends.cudnn.deterministic = True"
   ]
  },
  {
   "cell_type": "code",
   "execution_count": null,
   "metadata": {},
   "outputs": [],
   "source": [
    "DEVICE = torch.device(\"cuda\" if torch.cuda.is_available() else \"cpu\") # select device for training, i.e. gpu or cpu\n",
    "print(DEVICE)"
   ]
  },
  {
   "cell_type": "code",
   "execution_count": null,
   "metadata": {},
   "outputs": [],
   "source": []
  },
  {
   "cell_type": "code",
   "execution_count": null,
   "metadata": {},
   "outputs": [],
   "source": []
  },
  {
   "cell_type": "markdown",
   "metadata": {},
   "source": [
    "## Step 3: Evaluate validation performance (quantitative, full sized images)"
   ]
  },
  {
   "cell_type": "markdown",
   "metadata": {},
   "source": [
    "### Load model"
   ]
  },
  {
   "cell_type": "code",
   "execution_count": null,
   "metadata": {},
   "outputs": [],
   "source": [
    "%ls ../checkpoints"
   ]
  },
  {
   "cell_type": "code",
   "execution_count": null,
   "metadata": {},
   "outputs": [],
   "source": []
  },
  {
   "cell_type": "code",
   "execution_count": null,
   "metadata": {},
   "outputs": [],
   "source": [
    "# model_name = 'UNet_IoULoss_baseline'\n",
    "# model_name = 'UNet_BCELoss_baseline'\n",
    "# model_name = 'UNet_IoUBCELoss_baseline'\n",
    "model_name = 'UNet_IoULoss_augmented'\n",
    "# model_name = 'UNet_IoULoss_attention'\n",
    "\n",
    "\n",
    "# submitted\n",
    "# model_name = 'UNet_IoULoss_baseline_submitted'\n",
    "\n",
    "\n",
    "# instansiate the model\n",
    "if model_name == 'UNet_IoULoss_attention':\n",
    "    model = UNet_attention(channel_in=3, channel_out=1)\n",
    "else:\n",
    "    model = UNet(channel_in=3, channel_out=1)\n",
    "\n",
    " # load model to DEVICE\n",
    "model = model.to(DEVICE)\n",
    "\n",
    "# load best weights and put into the evaluation mode\n",
    "model.load_state_dict(torch.load(f'../checkpoints/ckpt_{model_name}.pth')['net'])"
   ]
  },
  {
   "cell_type": "markdown",
   "metadata": {},
   "source": [
    "### Print info and Plot learning curves:"
   ]
  },
  {
   "cell_type": "code",
   "execution_count": null,
   "metadata": {},
   "outputs": [],
   "source": [
    "history = torch.load(f'../checkpoints/ckpt_{model_name}.pth')\n",
    "\n",
    "best_epoch = history['epoch']\n",
    "best_iou = history['iou'].item()\n",
    "\n",
    "print('Best epoch:', best_epoch)\n",
    "print(f'Validation IoU:', best_iou)"
   ]
  },
  {
   "cell_type": "code",
   "execution_count": null,
   "metadata": {},
   "outputs": [],
   "source": [
    "train_losses = history['train_losses']\n",
    "val_losses = history['val_losses']\n",
    "\n",
    "# plot\n",
    "plt.figure(figsize=(18, 9))\n",
    "plt.plot(np.arange(len(train_losses)), train_losses, label=f'Train', linewidth=3)\n",
    "plt.plot(np.arange(len(val_losses)), val_losses, label=f'Valid', linewidth=3)\n",
    "plt.axvline(x=best_epoch, label='Best epoch', color='red')\n",
    "plt.xlabel('Epoch')\n",
    "plt.ylabel('Loss')\n",
    "plt.title(f'Best epoch: {best_epoch}. Best Validation IoU: {best_iou:.4}')\n",
    "plt.legend(loc='best')\n",
    "\n",
    "plt.savefig(f\"../figures/learning_curves/{model_name}.svg\")\n",
    "plt.show()"
   ]
  },
  {
   "cell_type": "code",
   "execution_count": null,
   "metadata": {},
   "outputs": [],
   "source": []
  },
  {
   "cell_type": "code",
   "execution_count": null,
   "metadata": {},
   "outputs": [],
   "source": []
  },
  {
   "cell_type": "code",
   "execution_count": null,
   "metadata": {},
   "outputs": [],
   "source": []
  },
  {
   "cell_type": "markdown",
   "metadata": {},
   "source": [
    "### Produce predictions on Validation Set"
   ]
  },
  {
   "cell_type": "code",
   "execution_count": null,
   "metadata": {},
   "outputs": [],
   "source": [
    "path_images = \"../data/train-val/images\"\n",
    "path_masks = \"../data/train-val/masks\"\n",
    "\n",
    "with open('../train-val-split/val.txt', 'r') as f:\n",
    "    ids_val = [l.strip()+'.jpg' for l in f]\n",
    "    \n",
    "print(SIZE)\n",
    "print(resize_transform)"
   ]
  },
  {
   "cell_type": "code",
   "execution_count": null,
   "metadata": {},
   "outputs": [],
   "source": []
  },
  {
   "cell_type": "code",
   "execution_count": null,
   "metadata": {},
   "outputs": [],
   "source": [
    "%mkdir ../predictions_val"
   ]
  },
  {
   "cell_type": "code",
   "execution_count": null,
   "metadata": {},
   "outputs": [],
   "source": []
  },
  {
   "cell_type": "code",
   "execution_count": null,
   "metadata": {},
   "outputs": [],
   "source": [
    "PRED_PATH = '../predictions_val'\n",
    "time_taken = []\n",
    "ious = []\n",
    "metrics = {}\n",
    "\n",
    "model.eval() # enter inference/evaluation mode \n",
    "for name in notebook.tqdm(ids_val):\n",
    "    metrics[name] = {} # to record metrics for this particular image\n",
    "    path_img = os.path.join(path_images, name)\n",
    "    path_mask = os.path.join(path_masks, name)\n",
    "    \n",
    "    img = imageio.v3.imread(path_img) / 255\n",
    "    mask = imageio.v3.imread(path_mask)[:, :, 0] / 255\n",
    "    mask = mask.round() # binarize to 0 or 1 \n",
    "    \n",
    "    # record shape to revert to \n",
    "    H, W, _ = img.shape\n",
    "    resize_back = transforms.Resize((H, W), interpolation=0)\n",
    "    \n",
    "    # convert to Tensors and fix the dimentions (Pytorch uses the channels in the first dimension)\n",
    "    img = torch.FloatTensor(np.transpose(img, [2, 0 ,1])).unsqueeze(0) \n",
    "    mask_binary = torch.FloatTensor(mask).unsqueeze(0)\n",
    "    \n",
    "    # resize for the model\n",
    "    img, mask = resize_transform(img), resize_transform(mask_binary)\n",
    "    \n",
    "    # put on the GPU\n",
    "    img, mask = img.to(DEVICE), mask.to(DEVICE)\n",
    "    \n",
    "    # we do not need to calculate gradients\n",
    "    with torch.no_grad():\n",
    "        # Start time\n",
    "        start_time = time.time()\n",
    "        ## Prediction\n",
    "        pred = model(img)\n",
    "        # End timer\n",
    "        end_time = time.time() - start_time\n",
    "\n",
    "    time_taken.append(end_time)\n",
    "    #print(\"{} - {:.10f}\".format(name, end_time))\n",
    "        \n",
    "    \n",
    "    # resize back, nearest interpolation, since it's a mask\n",
    "    pred = resize_back(pred)\n",
    "    # put on cpu\n",
    "    pred = pred.cpu()\n",
    "    # remove channel => BATCH x H x W\n",
    "    pred = pred.squeeze(0)\n",
    "    \n",
    "    \n",
    "    # sigmoid, threshold, record score\n",
    "    ious.append(iou_pytorch_test(pred, mask_binary).item())\n",
    "        \n",
    "    metrics[name]['Jaccard'] = iou_pytorch_test(pred, mask_binary).item()\n",
    "    metrics[name]['DSC'] = dice_pytorch_test(pred, mask_binary).item()\n",
    "    metrics[name]['Recall'] = recall_pytorch_test(pred, mask_binary).item()\n",
    "    metrics[name]['Precision'] = precision_pytorch_test(pred, mask_binary).item()\n",
    "    metrics[name]['F2'] = fbeta_pytorch_test(pred, mask_binary, beta=2.).item()\n",
    "    metrics[name]['Accuracy'] = accuracy_pytorch_test(pred, mask_binary, ).item()\n",
    "    \n",
    "    # comment out if your model contains a sigmoid or equivalent activation layer\n",
    "    pred = torch.sigmoid(pred)\n",
    "    # thresholding since that's how we will make predictions on new imputs\n",
    "    pred = pred > 0.5 \n",
    "    # remove BATCH => H x W\n",
    "    pred = pred.squeeze(0)\n",
    "    # converto to correct type\n",
    "    pred = pred.numpy().astype(np.float32)\n",
    "    # revert to standard intensities\n",
    "    pred = pred * 255.0\n",
    "    # save\n",
    "    pred_path = os.path.join(PRED_PATH, name)\n",
    "    cv2.imwrite(pred_path, pred)\n",
    "\n",
    "\n",
    "mean_time_taken = np.mean(time_taken)\n",
    "mean_fps = 1/mean_time_taken\n",
    "print(\"\\nmean time taken: \", mean_time_taken)\n",
    "print(\"Mean FPS: \", mean_fps)\n",
    "\n",
    "mean_iou = np.mean(ious)\n",
    "print(\"\\nMean IoU: \", mean_iou)"
   ]
  },
  {
   "cell_type": "code",
   "execution_count": null,
   "metadata": {},
   "outputs": [],
   "source": []
  },
  {
   "cell_type": "code",
   "execution_count": null,
   "metadata": {},
   "outputs": [],
   "source": [
    "metrics_df = pd.DataFrame(metrics).T.round(5)\n",
    "metrics_df = metrics_df[['Jaccard', 'DSC', 'Recall', 'Precision', 'Accuracy', 'F2']]\n",
    "metrics_df = metrics_df.sort_values('Jaccard', ascending=False)\n",
    "#metrics_df"
   ]
  },
  {
   "cell_type": "markdown",
   "metadata": {},
   "source": [
    "### Mean Scores"
   ]
  },
  {
   "cell_type": "code",
   "execution_count": null,
   "metadata": {},
   "outputs": [],
   "source": [
    "metrics_df.mean(axis=0)"
   ]
  },
  {
   "cell_type": "code",
   "execution_count": null,
   "metadata": {},
   "outputs": [],
   "source": [
    "# for LaTeX table\n",
    "' & '.join(list(metrics_df.mean(axis=0).round(4).values.astype(str)))"
   ]
  },
  {
   "cell_type": "code",
   "execution_count": null,
   "metadata": {},
   "outputs": [],
   "source": []
  },
  {
   "cell_type": "markdown",
   "metadata": {},
   "source": [
    "## Step 5: Evaluate validation performance (visial, full sized images)"
   ]
  },
  {
   "cell_type": "markdown",
   "metadata": {},
   "source": [
    "### Best cases"
   ]
  },
  {
   "cell_type": "code",
   "execution_count": null,
   "metadata": {},
   "outputs": [],
   "source": [
    "list(metrics_df.head().index)"
   ]
  },
  {
   "cell_type": "code",
   "execution_count": null,
   "metadata": {},
   "outputs": [],
   "source": [
    "#plt.figure(figsize=(15, 5))\n",
    "plt.subplots(3, 5, sharex=True, sharey=True, figsize=(11, 6))\n",
    "\n",
    "for i, name in enumerate(metrics_df.head().index):\n",
    "    \n",
    "    plt.subplot(3,5,i+1)\n",
    "    plt.title(f\"IoU: {metrics_df.loc[name]['Jaccard'].round(3)}\")\n",
    "    img = imageio.v3.imread(f'../data/train-val/images/{name}')\n",
    "    plt.imshow(img)\n",
    "    plt.xticks([])\n",
    "    plt.yticks([])\n",
    "    if i == 0:\n",
    "        plt.ylabel('Image')\n",
    "    \n",
    "    plt.subplot(3,5,i+6)\n",
    "    mask = imageio.v3.imread(f'../data/train-val/masks/{name}')\n",
    "    plt.imshow(mask)\n",
    "    plt.xticks([])\n",
    "    plt.yticks([])\n",
    "    if i == 0:\n",
    "        plt.ylabel('Truth')\n",
    "    \n",
    "    plt.subplot(3,5,i+11)\n",
    "    pred = imageio.v3.imread(f'../predictions_val/{name}')\n",
    "    plt.imshow(pred)\n",
    "    plt.xticks([])\n",
    "    plt.yticks([])\n",
    "    if i == 0:\n",
    "        plt.ylabel('Prediction')\n",
    "    \n",
    "    #print(metrics_df.loc[name].round(3))\n",
    "    #print(80 * '-')\n",
    "\n",
    "\n",
    "plt.tight_layout(pad=0) # pad=0, w_pad=0, h_pad=0\n",
    "plt.show()"
   ]
  },
  {
   "cell_type": "markdown",
   "metadata": {},
   "source": [
    "### Worst cases"
   ]
  },
  {
   "cell_type": "code",
   "execution_count": null,
   "metadata": {},
   "outputs": [],
   "source": [
    "list(metrics_df.tail().index)"
   ]
  },
  {
   "cell_type": "code",
   "execution_count": null,
   "metadata": {},
   "outputs": [],
   "source": [
    "#plt.figure(figsize=(15, 5))\n",
    "plt.subplots(3, 5, sharex=True, sharey=True, figsize=(11, 6))\n",
    "\n",
    "for i, name in enumerate(metrics_df.tail().index):\n",
    "    \n",
    "    plt.subplot(3,5,i+1)\n",
    "    plt.title(f\"IoU: {metrics_df.loc[name]['Jaccard'].round(3)}\")\n",
    "    img = imageio.v3.imread(f'../data/train-val/images/{name}')\n",
    "    plt.imshow(img)\n",
    "    plt.xticks([])\n",
    "    plt.yticks([])\n",
    "    if i == 0:\n",
    "        plt.ylabel('Image')\n",
    "    \n",
    "    plt.subplot(3,5,i+6)\n",
    "    mask = imageio.v3.imread(f'../data/train-val/masks/{name}')\n",
    "    plt.imshow(mask)\n",
    "    plt.xticks([])\n",
    "    plt.yticks([])\n",
    "    if i == 0:\n",
    "        plt.ylabel('Truth')\n",
    "    \n",
    "    plt.subplot(3,5,i+11)\n",
    "    pred = imageio.v3.imread(f'../predictions_val/{name}')\n",
    "    plt.imshow(pred)\n",
    "    plt.xticks([])\n",
    "    plt.yticks([])\n",
    "    if i == 0:\n",
    "        plt.ylabel('Prediction')\n",
    "    \n",
    "    #print(metrics_df.loc[name].round(3))\n",
    "    #print(80 * '-')\n",
    "\n",
    "\n",
    "plt.tight_layout(pad=0) # pad=0, w_pad=0, h_pad=0\n",
    "plt.show()"
   ]
  },
  {
   "cell_type": "markdown",
   "metadata": {},
   "source": [
    "### Different cases"
   ]
  },
  {
   "cell_type": "code",
   "execution_count": null,
   "metadata": {},
   "outputs": [],
   "source": [
    "#plt.figure(figsize=(15, 5))\n",
    "for i, name in enumerate(metrics_df.index):\n",
    "    print(name)\n",
    "    plt.subplots(1, 3, sharex=True, sharey=True, figsize=(6, 2))\n",
    "    \n",
    "    plt.subplot(1,3,1)\n",
    "    img = imageio.v3.imread(f'../data/train-val/images/{name}')\n",
    "    plt.imshow(img)\n",
    "    plt.xticks([])\n",
    "    plt.yticks([])\n",
    "    plt.ylabel(f\"IoU: {metrics_df.loc[name]['Jaccard'].round(3)}\")\n",
    "    if i == 0:\n",
    "        plt.xlabel('Image')\n",
    "    \n",
    "    plt.subplot(1,3,2)\n",
    "    mask = imageio.v3.imread(f'../data/train-val/masks/{name}')\n",
    "    plt.imshow(mask)\n",
    "    plt.xticks([])\n",
    "    plt.yticks([])\n",
    "    if i == 0:\n",
    "        plt.xlabel('Truth')\n",
    "    \n",
    "    plt.subplot(1,3,3)\n",
    "    pred = imageio.v3.imread(f'../predictions_val/{name}')\n",
    "    plt.imshow(pred)\n",
    "    plt.xticks([])\n",
    "    plt.yticks([])\n",
    "    if i == 0:\n",
    "        plt.xlabel('Prediction')\n",
    "    \n",
    "\n",
    "    plt.tight_layout(pad=0) # pad=0, w_pad=0, h_pad=0\n",
    "    plt.show()\n",
    "    \n",
    "    print(80 * '-', '\\n')"
   ]
  },
  {
   "cell_type": "markdown",
   "metadata": {},
   "source": [
    "- fat: cju16ach3m1da0993r1dq3sn2.jpg\n",
    "- medium: cju85rkbnlo1c08503uxcpax1.jpg\n",
    "- small: cju8ceacrsqkr0755hdz145es.jpg\n",
    "- very small: cjyzuio1qgh040763k56deohv.jpg\n",
    "- flat: cjyzkpsbjdsjq07211dfi4sru.jpg"
   ]
  },
  {
   "cell_type": "code",
   "execution_count": null,
   "metadata": {},
   "outputs": [],
   "source": [
    "different_polyp_names = ['cju16ach3m1da0993r1dq3sn2.jpg', 'cju85rkbnlo1c08503uxcpax1.jpg', 'cju8ceacrsqkr0755hdz145es.jpg', 'cjyzuio1qgh040763k56deohv.jpg', 'cjyzkpsbjdsjq07211dfi4sru.jpg']"
   ]
  },
  {
   "cell_type": "code",
   "execution_count": null,
   "metadata": {},
   "outputs": [],
   "source": [
    "#plt.figure(figsize=(15, 5))\n",
    "plt.subplots(3, 5, sharex=True, sharey=True, figsize=(11, 6))\n",
    "\n",
    "for i, name in enumerate(different_polyp_names):\n",
    "    \n",
    "    plt.subplot(3,5,i+1)\n",
    "    plt.title(f\"IoU: {metrics_df.loc[name]['Jaccard'].round(3)}\")\n",
    "    img = imageio.v3.imread(f'../data/train-val/images/{name}')\n",
    "    plt.imshow(img)\n",
    "    plt.xticks([])\n",
    "    plt.yticks([])\n",
    "    if i == 0:\n",
    "        plt.ylabel('Image')\n",
    "    \n",
    "    plt.subplot(3,5,i+6)\n",
    "    mask = imageio.v3.imread(f'../data/train-val/masks/{name}')\n",
    "    plt.imshow(mask)\n",
    "    plt.xticks([])\n",
    "    plt.yticks([])\n",
    "    if i == 0:\n",
    "        plt.ylabel('Truth')\n",
    "    \n",
    "    plt.subplot(3,5,i+11)\n",
    "    pred = imageio.v3.imread(f'../predictions_val/{name}')\n",
    "    plt.imshow(pred)\n",
    "    plt.xticks([])\n",
    "    plt.yticks([])\n",
    "    if i == 0:\n",
    "        plt.ylabel('Prediction')\n",
    "    \n",
    "    #print(metrics_df.loc[name].round(3))\n",
    "    #print(80 * '-')\n",
    "\n",
    "plt.tight_layout(pad=0) # pad=0, w_pad=0, h_pad=0\n",
    "#plt.savefig('../figures/validation_examples/different_polyps_img_mask_pred.svg')\n",
    "plt.show()"
   ]
  },
  {
   "cell_type": "code",
   "execution_count": null,
   "metadata": {},
   "outputs": [],
   "source": []
  }
 ],
 "metadata": {
  "kernelspec": {
   "display_name": "Python 3",
   "language": "python",
   "name": "python3"
  },
  "language_info": {
   "codemirror_mode": {
    "name": "ipython",
    "version": 3
   },
   "file_extension": ".py",
   "mimetype": "text/x-python",
   "name": "python",
   "nbconvert_exporter": "python",
   "pygments_lexer": "ipython3",
   "version": "3.7.6"
  }
 },
 "nbformat": 4,
 "nbformat_minor": 2
}
